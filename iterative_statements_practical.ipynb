{
  "cells": [
    {
      "cell_type": "markdown",
      "metadata": {
        "id": "view-in-github",
        "colab_type": "text"
      },
      "source": [
        "<a href=\"https://colab.research.google.com/github/narayan2111/Assignment_Portal/blob/master/iterative_statements_practical.ipynb\" target=\"_parent\"><img src=\"https://colab.research.google.com/assets/colab-badge.svg\" alt=\"Open In Colab\"/></a>"
      ]
    },
    {
      "cell_type": "markdown",
      "id": "793b856c",
      "metadata": {
        "id": "793b856c"
      },
      "source": [
        "# Iterative Statements in Python - Practical Exam Questions\n",
        "Class 8th Practical Notebook"
      ]
    },
    {
      "cell_type": "markdown",
      "id": "1c72f533",
      "metadata": {
        "id": "1c72f533"
      },
      "source": [
        "## Practical Coding Questions"
      ]
    },
    {
      "cell_type": "markdown",
      "id": "4895f453",
      "metadata": {
        "id": "4895f453"
      },
      "source": [
        "**Q:** Write a program to print numbers from 1 to 10 using a `for` loop."
      ]
    },
    {
      "cell_type": "code",
      "execution_count": 7,
      "id": "e6cd308a",
      "metadata": {
        "colab": {
          "base_uri": "https://localhost:8080/"
        },
        "id": "e6cd308a",
        "outputId": "50ea255a-2350-4e5e-8ff6-09a9a98a1aa8"
      },
      "outputs": [
        {
          "output_type": "stream",
          "name": "stdout",
          "text": [
            "1\n",
            "2\n",
            "3\n",
            "4\n",
            "5\n",
            "6\n",
            "7\n",
            "8\n",
            "9\n",
            "10\n"
          ]
        }
      ],
      "source": [
        "# Write your code here\n",
        "for i in range(10):\n",
        "  print(i+1)\n",
        ""
      ]
    },
    {
      "cell_type": "markdown",
      "id": "997d15fb",
      "metadata": {
        "id": "997d15fb"
      },
      "source": [
        "**Q:** Write a program to print all even numbers between 1 and 20 using a `while` loop."
      ]
    },
    {
      "cell_type": "code",
      "execution_count": 3,
      "id": "281d2c32",
      "metadata": {
        "colab": {
          "base_uri": "https://localhost:8080/"
        },
        "id": "281d2c32",
        "outputId": "5e809edf-7701-4e25-f8cd-c53670c9a028"
      },
      "outputs": [
        {
          "output_type": "stream",
          "name": "stdout",
          "text": [
            "2\n",
            "4\n",
            "6\n",
            "8\n",
            "10\n",
            "12\n",
            "14\n",
            "16\n",
            "18\n"
          ]
        }
      ],
      "source": [
        "# Write your code here\n",
        "i = 2\n",
        "while i<20:\n",
        "  if(i%2==0):\n",
        "    print(i)\n",
        "  i = i+2"
      ]
    },
    {
      "cell_type": "markdown",
      "id": "9ea3b617",
      "metadata": {
        "id": "9ea3b617"
      },
      "source": [
        "**Q:** Use `range()` to print numbers from 5 to 15."
      ]
    },
    {
      "cell_type": "code",
      "execution_count": 5,
      "id": "21773219",
      "metadata": {
        "colab": {
          "base_uri": "https://localhost:8080/"
        },
        "id": "21773219",
        "outputId": "4dc763d2-2523-40cd-aa9f-cea374c3a568"
      },
      "outputs": [
        {
          "output_type": "stream",
          "name": "stdout",
          "text": [
            "5\n",
            "6\n",
            "7\n",
            "8\n",
            "9\n",
            "10\n",
            "11\n",
            "12\n",
            "13\n",
            "14\n"
          ]
        }
      ],
      "source": [
        "# Write your code here\n",
        "n = 5\n",
        "for i in range(5,15):\n",
        "  print(i)\n"
      ]
    },
    {
      "cell_type": "markdown",
      "id": "153e678f",
      "metadata": {
        "id": "153e678f"
      },
      "source": [
        "**Q:** Write a program to print the multiplication table of 7 using a loop."
      ]
    },
    {
      "cell_type": "code",
      "execution_count": 8,
      "id": "88c5438a",
      "metadata": {
        "colab": {
          "base_uri": "https://localhost:8080/"
        },
        "id": "88c5438a",
        "outputId": "ae550624-0679-4ccd-a6c1-3806920d3496"
      },
      "outputs": [
        {
          "output_type": "stream",
          "name": "stdout",
          "text": [
            "7*1 = 7\n",
            "7*2 = 14\n",
            "7*3 = 21\n",
            "7*4 = 28\n",
            "7*5 = 35\n",
            "7*6 = 42\n",
            "7*7 = 49\n",
            "7*8 = 56\n",
            "7*9 = 63\n"
          ]
        }
      ],
      "source": [
        "# Write your code here\n",
        "n = 7\n",
        "for i in range(1,10):\n",
        "  print(f\"{n}*{i} = {n*i}\")"
      ]
    },
    {
      "cell_type": "markdown",
      "id": "bfcb00ba",
      "metadata": {
        "id": "bfcb00ba"
      },
      "source": [
        "**Q:** Write a program that prints the sum of numbers from 1 to 50 using a loop."
      ]
    },
    {
      "cell_type": "code",
      "execution_count": 10,
      "id": "4d10eb7c",
      "metadata": {
        "colab": {
          "base_uri": "https://localhost:8080/"
        },
        "id": "4d10eb7c",
        "outputId": "80127f52-78d6-4ed0-a8d3-da7d0aa4bfcd"
      },
      "outputs": [
        {
          "output_type": "stream",
          "name": "stdout",
          "text": [
            "sum of numbers from 1 to 50 is 1275\n"
          ]
        }
      ],
      "source": [
        "# Write your code here\n",
        "sum = 0\n",
        "for i in range(1,51):\n",
        "  sum += i\n",
        "print(f\"sum of numbers from 1 to 50 is {sum}\")"
      ]
    },
    {
      "cell_type": "markdown",
      "id": "426c9d79",
      "metadata": {
        "id": "426c9d79"
      },
      "source": [
        "**Q:** Write a program to print all elements of a list:\n",
        "```python\n",
        "fruits = ['apple', 'banana', 'cherry', 'mango']\n",
        "```"
      ]
    },
    {
      "cell_type": "code",
      "execution_count": 12,
      "id": "6574e2da",
      "metadata": {
        "colab": {
          "base_uri": "https://localhost:8080/"
        },
        "id": "6574e2da",
        "outputId": "19630a39-b873-47cc-81de-bf5bf32366f2"
      },
      "outputs": [
        {
          "output_type": "stream",
          "name": "stdout",
          "text": [
            "apple\n",
            "banana\n",
            "cherry\n",
            "mango\n"
          ]
        }
      ],
      "source": [
        "# Write your code here\n",
        "fruits = ['apple', 'banana', 'cherry', 'mango']\n",
        "for fruit in fruits:\n",
        "  print(fruit)\n"
      ]
    },
    {
      "cell_type": "markdown",
      "id": "4e82b9e4",
      "metadata": {
        "id": "4e82b9e4"
      },
      "source": [
        "**Q:** Write a program to count the number of digits in a number entered by the user."
      ]
    },
    {
      "cell_type": "code",
      "execution_count": null,
      "id": "81d0225e",
      "metadata": {
        "id": "81d0225e"
      },
      "outputs": [],
      "source": [
        "# Write your code here\n"
      ]
    },
    {
      "cell_type": "markdown",
      "id": "3f836cfb",
      "metadata": {
        "id": "3f836cfb"
      },
      "source": [
        "**Q:** Write a program to print factorial of a given number using a loop."
      ]
    },
    {
      "cell_type": "code",
      "execution_count": null,
      "id": "a92c0669",
      "metadata": {
        "id": "a92c0669"
      },
      "outputs": [],
      "source": [
        "# Write your code here"
      ]
    },
    {
      "cell_type": "markdown",
      "id": "515a2d45",
      "metadata": {
        "id": "515a2d45"
      },
      "source": [
        "**Q:** Write a program to reverse the digits of a number using a `while` loop."
      ]
    },
    {
      "cell_type": "code",
      "execution_count": null,
      "id": "e1397bf1",
      "metadata": {
        "id": "e1397bf1"
      },
      "outputs": [],
      "source": [
        "# Write your code here"
      ]
    },
    {
      "cell_type": "markdown",
      "id": "e2664a8b",
      "metadata": {
        "id": "e2664a8b"
      },
      "source": [
        "**Q:** Write a program that asks the user for 5 numbers and prints their average."
      ]
    },
    {
      "cell_type": "code",
      "execution_count": null,
      "id": "b60cf8ae",
      "metadata": {
        "id": "b60cf8ae"
      },
      "outputs": [],
      "source": [
        "# Write your code here"
      ]
    },
    {
      "cell_type": "markdown",
      "id": "b0fda19c",
      "metadata": {
        "id": "b0fda19c"
      },
      "source": [
        "**Q:** Write a program to display the squares of the first 10 natural numbers."
      ]
    },
    {
      "cell_type": "code",
      "execution_count": null,
      "id": "f6f075a4",
      "metadata": {
        "id": "f6f075a4"
      },
      "outputs": [],
      "source": [
        "# Write your code here"
      ]
    },
    {
      "cell_type": "markdown",
      "id": "b9328a30",
      "metadata": {
        "id": "b9328a30"
      },
      "source": [
        "**Q:** Write a program to print the Fibonacci sequence up to 10 terms using a loop."
      ]
    },
    {
      "cell_type": "code",
      "execution_count": null,
      "id": "6743ab2e",
      "metadata": {
        "id": "6743ab2e"
      },
      "outputs": [],
      "source": [
        "# Write your code here"
      ]
    },
    {
      "cell_type": "markdown",
      "id": "7e4b2a36",
      "metadata": {
        "id": "7e4b2a36"
      },
      "source": [
        "## Output Prediction Questions"
      ]
    },
    {
      "cell_type": "markdown",
      "id": "fc5c35ca",
      "metadata": {
        "id": "fc5c35ca"
      },
      "source": [
        "**Q:** Predict the output:\n",
        "```python\n",
        "for i in range(2, 10, 2):\n",
        "    print(i, end=' ')\n",
        "```"
      ]
    },
    {
      "cell_type": "code",
      "execution_count": null,
      "id": "f3b7ca0b",
      "metadata": {
        "id": "f3b7ca0b"
      },
      "outputs": [],
      "source": [
        "# Write the expected output here"
      ]
    },
    {
      "cell_type": "markdown",
      "id": "a0a29f66",
      "metadata": {
        "id": "a0a29f66"
      },
      "source": [
        "**Q:** Predict the output:\n",
        "```python\n",
        "for i in range(1, 6):\n",
        "    print(i * '*')\n",
        "```"
      ]
    },
    {
      "cell_type": "code",
      "execution_count": null,
      "id": "de442aa7",
      "metadata": {
        "id": "de442aa7"
      },
      "outputs": [],
      "source": [
        "# Write the expected output here"
      ]
    },
    {
      "cell_type": "markdown",
      "id": "bd5761cb",
      "metadata": {
        "id": "bd5761cb"
      },
      "source": [
        "**Q:** Predict the output:\n",
        "```python\n",
        "num = 10\n",
        "while num > 0:\n",
        "    print(num, end=' ')\n",
        "    num -= 3\n",
        "```"
      ]
    },
    {
      "cell_type": "code",
      "execution_count": null,
      "id": "25cd4f51",
      "metadata": {
        "id": "25cd4f51"
      },
      "outputs": [],
      "source": [
        "# Write the expected output here"
      ]
    },
    {
      "cell_type": "markdown",
      "id": "172e244c",
      "metadata": {
        "id": "172e244c"
      },
      "source": [
        "**Q:** Predict the output:\n",
        "```python\n",
        "fruits = ['apple', 'banana', 'cherry']\n",
        "for f in fruits:\n",
        "    print(f.upper())\n",
        "```"
      ]
    },
    {
      "cell_type": "code",
      "execution_count": null,
      "id": "d7d67d64",
      "metadata": {
        "id": "d7d67d64"
      },
      "outputs": [],
      "source": [
        "# Write the expected output here"
      ]
    },
    {
      "cell_type": "markdown",
      "id": "597b664c",
      "metadata": {
        "id": "597b664c"
      },
      "source": [
        "**Q:** Predict the output:\n",
        "```python\n",
        "count = 1\n",
        "while count <= 5:\n",
        "    print('Hello')\n",
        "    count += 1\n",
        "```"
      ]
    },
    {
      "cell_type": "code",
      "execution_count": null,
      "id": "1e482a1d",
      "metadata": {
        "id": "1e482a1d"
      },
      "outputs": [],
      "source": [
        "# Write the expected output here"
      ]
    }
  ],
  "metadata": {
    "colab": {
      "provenance": [],
      "include_colab_link": true
    },
    "language_info": {
      "name": "python"
    },
    "kernelspec": {
      "name": "python3",
      "display_name": "Python 3"
    }
  },
  "nbformat": 4,
  "nbformat_minor": 5
}